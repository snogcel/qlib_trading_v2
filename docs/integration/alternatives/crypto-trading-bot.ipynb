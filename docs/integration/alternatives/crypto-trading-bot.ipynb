{
 "cells": [
  {
   "cell_type": "markdown",
   "id": "089f0d9c",
   "metadata": {
    "papermill": {
     "duration": 0.005027,
     "end_time": "2025-04-21T04:08:37.626958",
     "exception": false,
     "start_time": "2025-04-21T04:08:37.621931",
     "status": "completed"
    },
    "tags": []
   },
   "source": [
    "# Crypto Trading Bot: Automating the Art of Trading\n",
    "Welcome to the Crypto Trading Bot Notebook, where we combine Python, Alpaca API, and a sprinkle of data science to create a trading bot that (hopefully) makes smarter decisions than your average human trader. Whether you're here to optimize your portfolio or just explore algorithmic trading, this notebook has something for everyone. Let’s dive in and see if we can turn data into dollars (or at least avoid turning it into despair).\n",
    "\n"
   ]
  },
  {
   "cell_type": "markdown",
   "id": "5c2de8ec",
   "metadata": {
    "papermill": {
     "duration": 0.003844,
     "end_time": "2025-04-21T04:08:37.635135",
     "exception": false,
     "start_time": "2025-04-21T04:08:37.631291",
     "status": "completed"
    },
    "tags": []
   },
   "source": [
    "## 1. Setup and Dependencies: Building the Foundation\n",
    "Before we start trading, we need to ensure our environment is ready. This section checks for the required Python packages and installs them if necessary. Think of it as assembling your toolkit before heading into the wild world of crypto trading. No one wants to be caught without their pandas or numpy!"
   ]
  },
  {
   "cell_type": "code",
   "execution_count": 1,
   "id": "7ad94b47",
   "metadata": {
    "execution": {
     "iopub.execute_input": "2025-04-21T04:08:37.644495Z",
     "iopub.status.busy": "2025-04-21T04:08:37.644200Z",
     "iopub.status.idle": "2025-04-21T04:08:54.338783Z",
     "shell.execute_reply": "2025-04-21T04:08:54.337313Z"
    },
    "papermill": {
     "duration": 16.701374,
     "end_time": "2025-04-21T04:08:54.340609",
     "exception": false,
     "start_time": "2025-04-21T04:08:37.639235",
     "status": "completed"
    },
    "tags": []
   },
   "outputs": [
    {
     "name": "stdout",
     "output_type": "stream",
     "text": [
      "Installing alpaca-trade-api...\n",
      "Collecting alpaca-trade-api\r\n",
      "  Downloading alpaca_trade_api-3.2.0-py3-none-any.whl.metadata (29 kB)\r\n",
      "Requirement already satisfied: pandas>=0.18.1 in /usr/local/lib/python3.11/dist-packages (from alpaca-trade-api) (2.2.3)\r\n",
      "Requirement already satisfied: numpy>=1.11.1 in /usr/local/lib/python3.11/dist-packages (from alpaca-trade-api) (1.26.4)\r\n",
      "Requirement already satisfied: requests<3,>2 in /usr/local/lib/python3.11/dist-packages (from alpaca-trade-api) (2.32.3)\r\n",
      "Collecting urllib3<2,>1.24 (from alpaca-trade-api)\r\n",
      "  Downloading urllib3-1.26.20-py2.py3-none-any.whl.metadata (50 kB)\r\n",
      "\u001b[2K     \u001b[90m━━━━━━━━━━━━━━━━━━━━━━━━━━━━━━━━━━━━━━━━\u001b[0m \u001b[32m50.1/50.1 kB\u001b[0m \u001b[31m1.8 MB/s\u001b[0m eta \u001b[36m0:00:00\u001b[0m\r\n",
      "\u001b[?25hRequirement already satisfied: websocket-client<2,>=0.56.0 in /usr/local/lib/python3.11/dist-packages (from alpaca-trade-api) (1.8.0)\r\n",
      "Collecting websockets<11,>=9.0 (from alpaca-trade-api)\r\n",
      "  Downloading websockets-10.4-cp311-cp311-manylinux_2_5_x86_64.manylinux1_x86_64.manylinux_2_17_x86_64.manylinux2014_x86_64.whl.metadata (6.4 kB)\r\n",
      "Collecting msgpack==1.0.3 (from alpaca-trade-api)\r\n",
      "  Downloading msgpack-1.0.3.tar.gz (123 kB)\r\n",
      "\u001b[2K     \u001b[90m━━━━━━━━━━━━━━━━━━━━━━━━━━━━━━━━━━━━━━━━\u001b[0m \u001b[32m123.8/123.8 kB\u001b[0m \u001b[31m4.4 MB/s\u001b[0m eta \u001b[36m0:00:00\u001b[0m\r\n",
      "\u001b[?25h  Preparing metadata (setup.py) ... \u001b[?25l\u001b[?25hdone\r\n",
      "Requirement already satisfied: aiohttp<4,>=3.8.3 in /usr/local/lib/python3.11/dist-packages (from alpaca-trade-api) (3.11.16)\r\n",
      "Collecting PyYAML==6.0.1 (from alpaca-trade-api)\r\n",
      "  Downloading PyYAML-6.0.1-cp311-cp311-manylinux_2_17_x86_64.manylinux2014_x86_64.whl.metadata (2.1 kB)\r\n",
      "Collecting deprecation==2.1.0 (from alpaca-trade-api)\r\n",
      "  Downloading deprecation-2.1.0-py2.py3-none-any.whl.metadata (4.6 kB)\r\n",
      "Requirement already satisfied: packaging in /usr/local/lib/python3.11/dist-packages (from deprecation==2.1.0->alpaca-trade-api) (24.2)\r\n",
      "Requirement already satisfied: aiohappyeyeballs>=2.3.0 in /usr/local/lib/python3.11/dist-packages (from aiohttp<4,>=3.8.3->alpaca-trade-api) (2.6.1)\r\n",
      "Requirement already satisfied: aiosignal>=1.1.2 in /usr/local/lib/python3.11/dist-packages (from aiohttp<4,>=3.8.3->alpaca-trade-api) (1.3.2)\r\n",
      "Requirement already satisfied: attrs>=17.3.0 in /usr/local/lib/python3.11/dist-packages (from aiohttp<4,>=3.8.3->alpaca-trade-api) (25.3.0)\r\n",
      "Requirement already satisfied: frozenlist>=1.1.1 in /usr/local/lib/python3.11/dist-packages (from aiohttp<4,>=3.8.3->alpaca-trade-api) (1.5.0)\r\n",
      "Requirement already satisfied: multidict<7.0,>=4.5 in /usr/local/lib/python3.11/dist-packages (from aiohttp<4,>=3.8.3->alpaca-trade-api) (6.2.0)\r\n",
      "Requirement already satisfied: propcache>=0.2.0 in /usr/local/lib/python3.11/dist-packages (from aiohttp<4,>=3.8.3->alpaca-trade-api) (0.3.1)\r\n",
      "Requirement already satisfied: yarl<2.0,>=1.17.0 in /usr/local/lib/python3.11/dist-packages (from aiohttp<4,>=3.8.3->alpaca-trade-api) (1.19.0)\r\n",
      "Requirement already satisfied: mkl_fft in /usr/local/lib/python3.11/dist-packages (from numpy>=1.11.1->alpaca-trade-api) (1.3.8)\r\n",
      "Requirement already satisfied: mkl_random in /usr/local/lib/python3.11/dist-packages (from numpy>=1.11.1->alpaca-trade-api) (1.2.4)\r\n",
      "Requirement already satisfied: mkl_umath in /usr/local/lib/python3.11/dist-packages (from numpy>=1.11.1->alpaca-trade-api) (0.1.1)\r\n",
      "Requirement already satisfied: mkl in /usr/local/lib/python3.11/dist-packages (from numpy>=1.11.1->alpaca-trade-api) (2025.1.0)\r\n",
      "Requirement already satisfied: tbb4py in /usr/local/lib/python3.11/dist-packages (from numpy>=1.11.1->alpaca-trade-api) (2022.1.0)\r\n",
      "Requirement already satisfied: mkl-service in /usr/local/lib/python3.11/dist-packages (from numpy>=1.11.1->alpaca-trade-api) (2.4.1)\r\n",
      "Requirement already satisfied: python-dateutil>=2.8.2 in /usr/local/lib/python3.11/dist-packages (from pandas>=0.18.1->alpaca-trade-api) (2.9.0.post0)\r\n",
      "Requirement already satisfied: pytz>=2020.1 in /usr/local/lib/python3.11/dist-packages (from pandas>=0.18.1->alpaca-trade-api) (2025.2)\r\n",
      "Requirement already satisfied: tzdata>=2022.7 in /usr/local/lib/python3.11/dist-packages (from pandas>=0.18.1->alpaca-trade-api) (2025.2)\r\n",
      "Requirement already satisfied: charset-normalizer<4,>=2 in /usr/local/lib/python3.11/dist-packages (from requests<3,>2->alpaca-trade-api) (3.4.1)\r\n",
      "Requirement already satisfied: idna<4,>=2.5 in /usr/local/lib/python3.11/dist-packages (from requests<3,>2->alpaca-trade-api) (3.10)\r\n",
      "Requirement already satisfied: certifi>=2017.4.17 in /usr/local/lib/python3.11/dist-packages (from requests<3,>2->alpaca-trade-api) (2025.1.31)\r\n",
      "Requirement already satisfied: six>=1.5 in /usr/local/lib/python3.11/dist-packages (from python-dateutil>=2.8.2->pandas>=0.18.1->alpaca-trade-api) (1.17.0)\r\n",
      "Requirement already satisfied: intel-openmp<2026,>=2024 in /usr/local/lib/python3.11/dist-packages (from mkl->numpy>=1.11.1->alpaca-trade-api) (2024.2.0)\r\n",
      "Requirement already satisfied: tbb==2022.* in /usr/local/lib/python3.11/dist-packages (from mkl->numpy>=1.11.1->alpaca-trade-api) (2022.1.0)\r\n",
      "Requirement already satisfied: tcmlib==1.* in /usr/local/lib/python3.11/dist-packages (from tbb==2022.*->mkl->numpy>=1.11.1->alpaca-trade-api) (1.2.0)\r\n",
      "Requirement already satisfied: intel-cmplr-lib-rt in /usr/local/lib/python3.11/dist-packages (from mkl_umath->numpy>=1.11.1->alpaca-trade-api) (2024.2.0)\r\n",
      "Requirement already satisfied: intel-cmplr-lib-ur==2024.2.0 in /usr/local/lib/python3.11/dist-packages (from intel-openmp<2026,>=2024->mkl->numpy>=1.11.1->alpaca-trade-api) (2024.2.0)\r\n",
      "Downloading alpaca_trade_api-3.2.0-py3-none-any.whl (34 kB)\r\n",
      "Downloading deprecation-2.1.0-py2.py3-none-any.whl (11 kB)\r\n",
      "Downloading PyYAML-6.0.1-cp311-cp311-manylinux_2_17_x86_64.manylinux2014_x86_64.whl (757 kB)\r\n",
      "\u001b[2K   \u001b[90m━━━━━━━━━━━━━━━━━━━━━━━━━━━━━━━━━━━━━━━━\u001b[0m \u001b[32m757.7/757.7 kB\u001b[0m \u001b[31m17.8 MB/s\u001b[0m eta \u001b[36m0:00:00\u001b[0m\r\n",
      "\u001b[?25hDownloading urllib3-1.26.20-py2.py3-none-any.whl (144 kB)\r\n",
      "\u001b[2K   \u001b[90m━━━━━━━━━━━━━━━━━━━━━━━━━━━━━━━━━━━━━━━━\u001b[0m \u001b[32m144.2/144.2 kB\u001b[0m \u001b[31m8.6 MB/s\u001b[0m eta \u001b[36m0:00:00\u001b[0m\r\n",
      "\u001b[?25hDownloading websockets-10.4-cp311-cp311-manylinux_2_5_x86_64.manylinux1_x86_64.manylinux_2_17_x86_64.manylinux2014_x86_64.whl (107 kB)\r\n",
      "\u001b[2K   \u001b[90m━━━━━━━━━━━━━━━━━━━━━━━━━━━━━━━━━━━━━━━━\u001b[0m \u001b[32m107.4/107.4 kB\u001b[0m \u001b[31m5.5 MB/s\u001b[0m eta \u001b[36m0:00:00\u001b[0m\r\n",
      "\u001b[?25hBuilding wheels for collected packages: msgpack\r\n",
      "  Building wheel for msgpack (setup.py) ... \u001b[?25l\u001b[?25hdone\r\n",
      "  Created wheel for msgpack: filename=msgpack-1.0.3-cp311-cp311-linux_x86_64.whl size=15688 sha256=71b6d268201b73924d9b472bce80e3d744fca0e752e3d02f53c835bd0346a0dc\r\n",
      "  Stored in directory: /root/.cache/pip/wheels/f6/35/da/ed9b26b510235e00e3a3c3bab7bad97b59214729662255ab3d\r\n",
      "Successfully built msgpack\r\n",
      "Installing collected packages: msgpack, websockets, urllib3, PyYAML, deprecation, alpaca-trade-api\r\n",
      "  Attempting uninstall: msgpack\r\n",
      "    Found existing installation: msgpack 1.1.0\r\n",
      "    Uninstalling msgpack-1.1.0:\r\n",
      "      Successfully uninstalled msgpack-1.1.0\r\n",
      "  Attempting uninstall: websockets\r\n",
      "    Found existing installation: websockets 14.2\r\n",
      "    Uninstalling websockets-14.2:\r\n",
      "      Successfully uninstalled websockets-14.2\r\n",
      "  Attempting uninstall: urllib3\r\n",
      "    Found existing installation: urllib3 2.3.0\r\n",
      "    Uninstalling urllib3-2.3.0:\r\n",
      "      Successfully uninstalled urllib3-2.3.0\r\n",
      "  Attempting uninstall: PyYAML\r\n",
      "    Found existing installation: PyYAML 6.0.2\r\n",
      "    Uninstalling PyYAML-6.0.2:\r\n",
      "      Successfully uninstalled PyYAML-6.0.2\r\n",
      "\u001b[31mERROR: pip's dependency resolver does not currently take into account all the packages that are installed. This behaviour is the source of the following dependency conflicts.\r\n",
      "sigstore 3.6.1 requires rich~=13.0, but you have rich 14.0.0 which is incompatible.\r\n",
      "datasets 3.5.0 requires fsspec[http]<=2024.12.0,>=2023.1.0, but you have fsspec 2025.3.2 which is incompatible.\r\n",
      "nilearn 0.11.1 requires scikit-learn>=1.4.0, but you have scikit-learn 1.2.2 which is incompatible.\r\n",
      "google-colab 1.0.0 requires notebook==6.5.5, but you have notebook 6.5.4 which is incompatible.\r\n",
      "google-colab 1.0.0 requires pandas==2.2.2, but you have pandas 2.2.3 which is incompatible.\r\n",
      "google-spark-connect 0.5.2 requires google-api-core>=2.19.1, but you have google-api-core 1.34.1 which is incompatible.\r\n",
      "pandas-gbq 0.26.1 requires google-api-core<3.0.0dev,>=2.10.2, but you have google-api-core 1.34.1 which is incompatible.\r\n",
      "gcsfs 2024.10.0 requires fsspec==2024.10.0, but you have fsspec 2025.3.2 which is incompatible.\r\n",
      "bigframes 1.36.0 requires rich<14,>=12.4.4, but you have rich 14.0.0 which is incompatible.\r\n",
      "pydrive2 1.21.3 requires cryptography<44, but you have cryptography 44.0.2 which is incompatible.\r\n",
      "pydrive2 1.21.3 requires pyOpenSSL<=24.2.1,>=19.1.0, but you have pyopenssl 25.0.0 which is incompatible.\r\n",
      "google-genai 0.8.0 requires websockets<15.0dev,>=13.0, but you have websockets 10.4 which is incompatible.\r\n",
      "google-cloud-bigtable 2.28.1 requires google-api-core[grpc]<3.0.0dev,>=2.16.0, but you have google-api-core 1.34.1 which is incompatible.\u001b[0m\u001b[31m\r\n",
      "\u001b[0mSuccessfully installed PyYAML-6.0.1 alpaca-trade-api-3.2.0 deprecation-2.1.0 msgpack-1.0.3 urllib3-1.26.20 websockets-10.4\r\n",
      "alpaca-trade-api installed ✓\n",
      "pandas already installed ✓\n",
      "Installing python-dotenv...\n",
      "Collecting python-dotenv\r\n",
      "  Downloading python_dotenv-1.1.0-py3-none-any.whl.metadata (24 kB)\r\n",
      "Downloading python_dotenv-1.1.0-py3-none-any.whl (20 kB)\r\n",
      "Installing collected packages: python-dotenv\r\n",
      "Successfully installed python-dotenv-1.1.0\r\n",
      "python-dotenv installed ✓\n",
      "numpy already installed ✓\n",
      "matplotlib already installed ✓\n"
     ]
    }
   ],
   "source": [
    "# Check and install required packages if needed\n",
    "import importlib\n",
    "import sys\n",
    "\n",
    "def check_install(package):\n",
    "    try:\n",
    "        importlib.import_module(package.replace('-', '_'))\n",
    "        print(f\"{package} already installed ✓\")\n",
    "    except ImportError:\n",
    "        print(f\"Installing {package}...\")\n",
    "        !{sys.executable} -m pip install {package}\n",
    "        print(f\"{package} installed ✓\")\n",
    "\n",
    "# Check all required packages\n",
    "for package in ['alpaca-trade-api', 'pandas', 'python-dotenv', 'numpy', 'matplotlib']:\n",
    "    check_install(package)"
   ]
  },
  {
   "cell_type": "code",
   "execution_count": 2,
   "id": "81f46227",
   "metadata": {
    "execution": {
     "iopub.execute_input": "2025-04-21T04:08:54.355812Z",
     "iopub.status.busy": "2025-04-21T04:08:54.355132Z",
     "iopub.status.idle": "2025-04-21T04:08:54.586834Z",
     "shell.execute_reply": "2025-04-21T04:08:54.585867Z"
    },
    "papermill": {
     "duration": 0.241297,
     "end_time": "2025-04-21T04:08:54.588751",
     "exception": false,
     "start_time": "2025-04-21T04:08:54.347454",
     "status": "completed"
    },
    "tags": []
   },
   "outputs": [],
   "source": [
    "import os\n",
    "import pandas as pd\n",
    "import numpy as np\n",
    "import matplotlib.pyplot as plt\n",
    "from datetime import datetime, timedelta\n",
    "from dotenv import load_dotenv\n",
    "import alpaca_trade_api as tradeapi\n",
    "from kaggle_secrets import UserSecretsClient\n",
    "\n",
    "# Set plot style\n",
    "plt.style.use('ggplot')"
   ]
  },
  {
   "cell_type": "markdown",
   "id": "2b4eabde",
   "metadata": {
    "papermill": {
     "duration": 0.005872,
     "end_time": "2025-04-21T04:08:54.601015",
     "exception": false,
     "start_time": "2025-04-21T04:08:54.595143",
     "status": "completed"
    },
    "tags": []
   },
   "source": [
    "## 2. Load Configuration: Secrets and Strategies\n",
    "Here, we load our secret credentials (API keys) and trading parameters. These include how much capital we’re allocating, the maximum position size, and the cryptocurrencies we’re targeting. Don’t worry, your secrets are safe here—just don’t share this notebook with your friends unless you’ve removed your API keys first!\n",
    "\n"
   ]
  },
  {
   "cell_type": "code",
   "execution_count": 3,
   "id": "36dd2d8f",
   "metadata": {
    "execution": {
     "iopub.execute_input": "2025-04-21T04:08:54.614621Z",
     "iopub.status.busy": "2025-04-21T04:08:54.614169Z",
     "iopub.status.idle": "2025-04-21T04:08:54.792413Z",
     "shell.execute_reply": "2025-04-21T04:08:54.791341Z"
    },
    "papermill": {
     "duration": 0.187221,
     "end_time": "2025-04-21T04:08:54.794249",
     "exception": false,
     "start_time": "2025-04-21T04:08:54.607028",
     "status": "completed"
    },
    "tags": []
   },
   "outputs": [
    {
     "name": "stdout",
     "output_type": "stream",
     "text": [
      "Alpaca API credentials loaded.\n",
      "Trading parameters loaded successfully.\n"
     ]
    }
   ],
   "source": [
    "\n",
    "\n",
    "# Trading parameters (from environment or defaults)\n",
    "API_KEY = UserSecretsClient().get_secret('ALPACA_API_KEY')\n",
    "SECRET_KEY = UserSecretsClient().get_secret('ALPACA_SECRET_KEY')\n",
    "BASE_URL = 'https://paper-api.alpaca.markets'\n",
    "\n",
    "# Trading parameters (these can be changed as needed)\n",
    "CAPITAL_ALLOCATION = float(1000.0)\n",
    "MAX_POSITION_SIZE = float(100.0)\n",
    "STOP_LOSS_PERCENTAGE = float(0.05)\n",
    "TAKE_PROFIT_PERCENTAGE = float(0.1)\n",
    "CRYPTOCURRENCIES =  'BTC/USD,ETH/USD'.split(',')\n",
    "ANALYSIS_INTERVAL = '1Hour'\n",
    "LOOKBACK_PERIOD = int(24)\n",
    "\n",
    "# Check API keys\n",
    "if not API_KEY or not SECRET_KEY:\n",
    "    print(\"WARNING: Alpaca API credentials not found. Please set them in .env file or in this notebook.\")\n",
    "else:\n",
    "    print(\"Alpaca API credentials loaded.\")\n",
    "    \n",
    "print(f\"Trading parameters loaded successfully.\")"
   ]
  },
  {
   "cell_type": "markdown",
   "id": "177b0629",
   "metadata": {
    "papermill": {
     "duration": 0.006382,
     "end_time": "2025-04-21T04:08:54.807177",
     "exception": false,
     "start_time": "2025-04-21T04:08:54.800795",
     "status": "completed"
    },
    "tags": []
   },
   "source": [
    "## 3. Initialize Alpaca API: Connecting to the Market\n",
    "This section connects us to the Alpaca API, our gateway to the crypto markets. If the connection is successful, we’ll see our account status and equity. If not, we’ll get an error message and a gentle reminder to double-check our credentials. No trades without access!"
   ]
  },
  {
   "cell_type": "code",
   "execution_count": 4,
   "id": "8d7c13c5",
   "metadata": {
    "execution": {
     "iopub.execute_input": "2025-04-21T04:08:54.821684Z",
     "iopub.status.busy": "2025-04-21T04:08:54.821356Z",
     "iopub.status.idle": "2025-04-21T04:08:54.940522Z",
     "shell.execute_reply": "2025-04-21T04:08:54.939343Z"
    },
    "papermill": {
     "duration": 0.128588,
     "end_time": "2025-04-21T04:08:54.942603",
     "exception": false,
     "start_time": "2025-04-21T04:08:54.814015",
     "status": "completed"
    },
    "tags": []
   },
   "outputs": [
    {
     "name": "stdout",
     "output_type": "stream",
     "text": [
      "Connected to Alpaca API. Account status: ACTIVE\n",
      "Account value: $100,000.00\n"
     ]
    }
   ],
   "source": [
    "try:\n",
    "    api = tradeapi.REST(API_KEY, SECRET_KEY, BASE_URL, api_version='v2')\n",
    "    account = api.get_account()\n",
    "    print(f\"Connected to Alpaca API. Account status: {account.status}\")\n",
    "    print(f\"Account value: ${float(account.equity):,.2f}\")\n",
    "except Exception as e:\n",
    "    print(f\"Error connecting to Alpaca API: {e}\")"
   ]
  },
  {
   "cell_type": "markdown",
   "id": "7491364c",
   "metadata": {
    "papermill": {
     "duration": 0.00607,
     "end_time": "2025-04-21T04:08:54.955536",
     "exception": false,
     "start_time": "2025-04-21T04:08:54.949466",
     "status": "completed"
    },
    "tags": []
   },
   "source": [
    "## 4. Define Technical Indicators: The Brains of the Operation\n",
    "Here, we define the technical indicators that will guide our trading decisions:\n",
    "\n",
    "* Simple Moving Averages (SMA): A classic tool to smooth out price data and identify trends.\n",
    "* Relative Strength Index (RSI): A measure of whether the market is overbought, oversold, or just plain indecisive.\n",
    "\n",
    "These indicators are the backbone of our strategy, helping us decide when to buy, sell, or hold. Think of them as the compass for our trading journey."
   ]
  },
  {
   "cell_type": "code",
   "execution_count": 5,
   "id": "6fc416a7",
   "metadata": {
    "execution": {
     "iopub.execute_input": "2025-04-21T04:08:54.969572Z",
     "iopub.status.busy": "2025-04-21T04:08:54.969228Z",
     "iopub.status.idle": "2025-04-21T04:08:54.983882Z",
     "shell.execute_reply": "2025-04-21T04:08:54.982638Z"
    },
    "papermill": {
     "duration": 0.023658,
     "end_time": "2025-04-21T04:08:54.985384",
     "exception": false,
     "start_time": "2025-04-21T04:08:54.961726",
     "status": "completed"
    },
    "tags": []
   },
   "outputs": [],
   "source": [
    "def get_historical_data(symbol, timeframe, limit):\n",
    "    \"\"\"Fetch historical bar data for a cryptocurrency.\"\"\"\n",
    "    try:\n",
    "        bars = api.get_crypto_bars(symbol, timeframe, limit=limit).df\n",
    "        return bars\n",
    "    except Exception as e:\n",
    "        print(f\"Error fetching data for {symbol}: {e}\")\n",
    "        return pd.DataFrame()\n",
    "\n",
    "def calculate_sma(data, period):\n",
    "    \"\"\"Calculate Simple Moving Average with proper NaN handling.\"\"\"\n",
    "    import numpy as np\n",
    "    \n",
    "    # Calculate SMA using rolling window\n",
    "    sma = data['close'].rolling(window=period, min_periods=1).mean()\n",
    "    \n",
    "    # Replace NaN values with actual values where available\n",
    "    if len(sma) > 0 and np.isnan(sma.iloc[-1]):\n",
    "        # If we don't have enough data for the SMA period, use available data average\n",
    "        available_data = data['close'].dropna()\n",
    "        if not available_data.empty:\n",
    "            # Use mean of available data as a fallback\n",
    "            sma.iloc[-1] = available_data.mean()\n",
    "    \n",
    "    return sma\n",
    "\n",
    "def calculate_rsi(data, period=14):\n",
    "    \"\"\"Calculate Relative Strength Index with comprehensive null handling.\"\"\"\n",
    "    import numpy as np\n",
    "    import warnings\n",
    "    \n",
    "    # Temporarily suppress numpy warnings\n",
    "    with warnings.catch_warnings():\n",
    "        warnings.simplefilter(\"ignore\")\n",
    "        \n",
    "        # Calculate price changes\n",
    "        delta = data['close'].diff()\n",
    "        \n",
    "        # Separate gains and losses\n",
    "        gains = np.array([max(0, d) if not np.isnan(d) else 0 for d in delta])\n",
    "        losses = np.array([max(0, -d) if not np.isnan(d) else 0 for d in delta])\n",
    "        \n",
    "        # Create pandas Series with same index as original data\n",
    "        gains_series = pd.Series(gains, index=data.index)\n",
    "        losses_series = pd.Series(losses, index=data.index)\n",
    "        \n",
    "        # Calculate mean values (handle empty/NaN explicitly)\n",
    "        avg_gains = gains_series.rolling(window=period, min_periods=1).mean()\n",
    "        avg_losses = losses_series.rolling(window=period, min_periods=1).mean()\n",
    "        \n",
    "        # Create a new series for RS values\n",
    "        rs_values = np.zeros(len(delta))\n",
    "        \n",
    "        # Only calculate RS for valid entries without using comparison operators\n",
    "        for i in range(len(delta)):\n",
    "            try:\n",
    "                loss_val = avg_losses.iloc[i]\n",
    "                gain_val = avg_gains.iloc[i]\n",
    "                \n",
    "                if np.isnan(loss_val) or np.isnan(gain_val):\n",
    "                    rs_values[i] = 0\n",
    "                elif loss_val == 0:\n",
    "                    rs_values[i] = 100  # Infinite RS = 100 RSI\n",
    "                else:\n",
    "                    rs_values[i] = gain_val / loss_val\n",
    "            except:\n",
    "                rs_values[i] = 0  # Failsafe for any unexpected errors\n",
    "                \n",
    "        # Calculate RSI\n",
    "        rsi_values = np.zeros(len(delta))\n",
    "        for i in range(len(delta)):\n",
    "            if np.isnan(rs_values[i]):\n",
    "                rsi_values[i] = 50  # Neutral value for NaN\n",
    "            else:\n",
    "                rsi_values[i] = 100 - (100 / (1 + rs_values[i]))\n",
    "        \n",
    "        # Final cleanup\n",
    "        rsi = pd.Series(rsi_values, index=data.index)\n",
    "        rsi = rsi.clip(0, 100)  # Ensure values are within valid range\n",
    "        \n",
    "        return rsi"
   ]
  },
  {
   "cell_type": "markdown",
   "id": "c27a57ca",
   "metadata": {
    "papermill": {
     "duration": 0.006088,
     "end_time": "2025-04-21T04:08:54.997940",
     "exception": false,
     "start_time": "2025-04-21T04:08:54.991852",
     "status": "completed"
    },
    "tags": []
   },
   "source": [
    "## 5. Market Analysis Function: Reading the Market’s Mind\n",
    "This function analyzes the market for a given cryptocurrency. It fetches historical data, calculates our indicators, and generates a trading signal: buy, sell, or hold. It’s like having a data-driven crystal ball, but with fewer mystical vibes and more math."
   ]
  },
  {
   "cell_type": "code",
   "execution_count": 6,
   "id": "e2e1337e",
   "metadata": {
    "execution": {
     "iopub.execute_input": "2025-04-21T04:08:55.012931Z",
     "iopub.status.busy": "2025-04-21T04:08:55.012574Z",
     "iopub.status.idle": "2025-04-21T04:08:55.019635Z",
     "shell.execute_reply": "2025-04-21T04:08:55.018717Z"
    },
    "papermill": {
     "duration": 0.016592,
     "end_time": "2025-04-21T04:08:55.021353",
     "exception": false,
     "start_time": "2025-04-21T04:08:55.004761",
     "status": "completed"
    },
    "tags": []
   },
   "outputs": [],
   "source": [
    "def analyze_market(symbol):\n",
    "    \"\"\"Analyze market conditions for a given cryptocurrency.\"\"\"\n",
    "    # Get historical data\n",
    "    data = get_historical_data(symbol, ANALYSIS_INTERVAL, LOOKBACK_PERIOD)\n",
    "    \n",
    "    if data.empty:\n",
    "        return 'hold', 0\n",
    "    \n",
    "    # Calculate indicators\n",
    "    data['sma_20'] = calculate_sma(data, 20)\n",
    "    data['sma_50'] = calculate_sma(data, 50)\n",
    "    data['rsi'] = calculate_rsi(data)\n",
    "    \n",
    "    # Generate trading signals\n",
    "    current_price = data['close'].iloc[-1]\n",
    "    sma_20 = data['sma_20'].iloc[-1]\n",
    "    sma_50 = data['sma_50'].iloc[-1]\n",
    "    rsi = data['rsi'].iloc[-1]\n",
    "    \n",
    "    # Simple trading strategy\n",
    "    if sma_20 > sma_50 and rsi < 70:  # Golden cross and not overbought\n",
    "        return 'buy', current_price\n",
    "    elif sma_20 < sma_50 and rsi > 30:  # Death cross and not oversold\n",
    "        return 'sell', current_price\n",
    "    else:\n",
    "        return 'hold', current_price"
   ]
  },
  {
   "cell_type": "markdown",
   "id": "9078ceb9",
   "metadata": {
    "papermill": {
     "duration": 0.005891,
     "end_time": "2025-04-21T04:08:55.033751",
     "exception": false,
     "start_time": "2025-04-21T04:08:55.027860",
     "status": "completed"
    },
    "tags": []
   },
   "source": [
    "## 6. Trade Execution Function: Turning Decisions into Actions\n",
    "Once we have a trading signal, this function executes the trade. Whether it’s buying Bitcoin or selling Ethereum, this is where the rubber meets the road. Safety measures like stop-loss and take-profit levels are included because even bots need to manage risk."
   ]
  },
  {
   "cell_type": "code",
   "execution_count": 7,
   "id": "ee1e524e",
   "metadata": {
    "execution": {
     "iopub.execute_input": "2025-04-21T04:08:55.047530Z",
     "iopub.status.busy": "2025-04-21T04:08:55.047230Z",
     "iopub.status.idle": "2025-04-21T04:08:55.054719Z",
     "shell.execute_reply": "2025-04-21T04:08:55.053802Z"
    },
    "papermill": {
     "duration": 0.016342,
     "end_time": "2025-04-21T04:08:55.056222",
     "exception": false,
     "start_time": "2025-04-21T04:08:55.039880",
     "status": "completed"
    },
    "tags": []
   },
   "outputs": [],
   "source": [
    "def execute_trade(symbol, action, price, simulate=True):\n",
    "    \"\"\"Execute a trade based on the analysis.\"\"\"\n",
    "    if action == 'buy':\n",
    "        position_size = min(CAPITAL_ALLOCATION, MAX_POSITION_SIZE)\n",
    "        qty = position_size / price\n",
    "        \n",
    "        # Set stop loss and take profit prices\n",
    "        stop_loss = price * (1 - STOP_LOSS_PERCENTAGE)\n",
    "        take_profit = price * (1 + TAKE_PROFIT_PERCENTAGE)\n",
    "        \n",
    "        print(f\"BUYING {qty:.6f} of {symbol} at ${price:.2f}\")\n",
    "        print(f\"Stop Loss: ${stop_loss:.2f}, Take Profit: ${take_profit:.2f}\")\n",
    "        \n",
    "        if not simulate:\n",
    "            try:\n",
    "                order = api.submit_order(\n",
    "                    symbol=symbol,\n",
    "                    qty=qty,\n",
    "                    side='buy',\n",
    "                    type='market',\n",
    "                    time_in_force='gtc'\n",
    "                )\n",
    "                print(f\"Order submitted: {order.id}\")\n",
    "            except Exception as e:\n",
    "                print(f\"Error submitting buy order: {e}\")\n",
    "        \n",
    "    elif action == 'sell':\n",
    "        # Check if position exists\n",
    "        try:\n",
    "            position = api.get_position(symbol)\n",
    "            print(f\"SELLING {position.qty} of {symbol} at ${price:.2f}\")\n",
    "            \n",
    "            if not simulate:\n",
    "                order = api.submit_order(\n",
    "                    symbol=symbol,\n",
    "                    qty=position.qty,\n",
    "                    side='sell',\n",
    "                    type='market',\n",
    "                    time_in_force='gtc'\n",
    "                )\n",
    "                print(f\"Order submitted: {order.id}\")\n",
    "                \n",
    "        except Exception as e:\n",
    "            print(f\"No position to sell for {symbol}: {e}\")"
   ]
  },
  {
   "cell_type": "markdown",
   "id": "7fc9dea0",
   "metadata": {
    "papermill": {
     "duration": 0.006036,
     "end_time": "2025-04-21T04:08:55.068569",
     "exception": false,
     "start_time": "2025-04-21T04:08:55.062533",
     "status": "completed"
    },
    "tags": []
   },
   "source": [
    "## 7. Fetch and Visualize Bitcoin Data: Because Charts Speak Louder Than Words\n",
    "Here, we fetch historical Bitcoin data and visualize it with some sleek charts. We plot the price, moving averages, and RSI to get a clearer picture of market trends. It’s like a crypto art gallery, but instead of admiring the beauty, we’re looking for trading opportunities.\n",
    "\n"
   ]
  },
  {
   "cell_type": "code",
   "execution_count": 8,
   "id": "4456b21a",
   "metadata": {
    "execution": {
     "iopub.execute_input": "2025-04-21T04:08:55.083406Z",
     "iopub.status.busy": "2025-04-21T04:08:55.083047Z",
     "iopub.status.idle": "2025-04-21T04:08:55.847807Z",
     "shell.execute_reply": "2025-04-21T04:08:55.846910Z"
    },
    "papermill": {
     "duration": 0.776175,
     "end_time": "2025-04-21T04:08:55.851028",
     "exception": false,
     "start_time": "2025-04-21T04:08:55.074853",
     "status": "completed"
    },
    "tags": []
   },
   "outputs": [
    {
     "data": {
      "image/png": "[encoded data removed]",
      "text/plain": [
       "<Figure size 1200x800 with 2 Axes>"
      ]
     },
     "metadata": {},
     "output_type": "display_data"
    },
    {
     "name": "stdout",
     "output_type": "stream",
     "text": [
      "Latest Bitcoin Price: $87286.30\n",
      "SMA 20: $85245.01\n",
      "SMA 50: $85184.64\n",
      "RSI: 81.38\n"
     ]
    }
   ],
   "source": [
    "# Fetch Bitcoin data\n",
    "btc_data = get_historical_data('BTC/USD', ANALYSIS_INTERVAL, 100)  # Get more data for better visualization\n",
    "\n",
    "if not btc_data.empty:\n",
    "    # Calculate indicators\n",
    "    btc_data['sma_20'] = calculate_sma(btc_data, 20)\n",
    "    btc_data['sma_50'] = calculate_sma(btc_data, 50)\n",
    "    btc_data['rsi'] = calculate_rsi(btc_data)\n",
    "    \n",
    "    # Create figure with 2 subplots\n",
    "    fig, (ax1, ax2) = plt.subplots(2, 1, figsize=(12, 8), gridspec_kw={'height_ratios': [3, 1]})\n",
    "    \n",
    "    # Price and moving averages\n",
    "    ax1.plot(btc_data.index, btc_data['close'], label='BTC/USD')\n",
    "    ax1.plot(btc_data.index, btc_data['sma_20'], label='SMA 20')\n",
    "    ax1.plot(btc_data.index, btc_data['sma_50'], label='SMA 50')\n",
    "    ax1.set_title('Bitcoin Price with Moving Averages')\n",
    "    ax1.set_ylabel('Price (USD)')\n",
    "    ax1.legend()\n",
    "    ax1.grid(True)\n",
    "    \n",
    "    # RSI\n",
    "    ax2.plot(btc_data.index, btc_data['rsi'])\n",
    "    ax2.axhline(y=70, color='r', linestyle='--', alpha=0.3)\n",
    "    ax2.axhline(y=30, color='g', linestyle='--', alpha=0.3)\n",
    "    ax2.set_title('Relative Strength Index (RSI)')\n",
    "    ax2.set_ylabel('RSI')\n",
    "    ax2.set_ylim(0, 100)\n",
    "    ax2.grid(True)\n",
    "    \n",
    "    plt.tight_layout()\n",
    "    plt.show()\n",
    "    \n",
    "    # Display latest data\n",
    "    latest = btc_data.iloc[-1]\n",
    "    print(f\"Latest Bitcoin Price: ${latest['close']:.2f}\")\n",
    "    print(f\"SMA 20: ${latest['sma_20']:.2f}\")\n",
    "    print(f\"SMA 50: ${latest['sma_50']:.2f}\")\n",
    "    print(f\"RSI: {latest['rsi']:.2f}\")\n",
    "else:\n",
    "    print(\"No data available for Bitcoin.\")"
   ]
  },
  {
   "cell_type": "markdown",
   "id": "a686c35d",
   "metadata": {
    "papermill": {
     "duration": 0.009005,
     "end_time": "2025-04-21T04:08:55.869121",
     "exception": false,
     "start_time": "2025-04-21T04:08:55.860116",
     "status": "completed"
    },
    "tags": []
   },
   "source": [
    "## 8. Run Trading Analysis for All Cryptocurrencies: Sharing the Love\n",
    "Why limit ourselves to Bitcoin? This section runs our market analysis function for all the cryptocurrencies in our list (currently BTC and ETH). It prints the results and simulates trades. Diversification isn’t just a buzzword—it’s a survival strategy."
   ]
  },
  {
   "cell_type": "code",
   "execution_count": 9,
   "id": "99f8643e",
   "metadata": {
    "execution": {
     "iopub.execute_input": "2025-04-21T04:08:55.888558Z",
     "iopub.status.busy": "2025-04-21T04:08:55.887857Z",
     "iopub.status.idle": "2025-04-21T04:08:56.008827Z",
     "shell.execute_reply": "2025-04-21T04:08:56.007724Z"
    },
    "papermill": {
     "duration": 0.132385,
     "end_time": "2025-04-21T04:08:56.010448",
     "exception": false,
     "start_time": "2025-04-21T04:08:55.878063",
     "status": "completed"
    },
    "tags": []
   },
   "outputs": [
    {
     "name": "stdout",
     "output_type": "stream",
     "text": [
      "Running analysis for cryptocurrencies: BTC/USD, ETH/USD\n",
      "\n",
      "Analyzing BTC/USD...\n",
      "Analysis result: HOLD at $87286.30\n",
      "\n",
      "Analyzing ETH/USD...\n",
      "Analysis result: SELL at $1638.75\n",
      "No position to sell for ETH/USD: 404 Client Error: Not Found for url: https://paper-api.alpaca.markets/v2/positions/ETH/USD\n"
     ]
    }
   ],
   "source": [
    "print(f\"Running analysis for cryptocurrencies: {', '.join(CRYPTOCURRENCIES)}\")\n",
    "\n",
    "for crypto in CRYPTOCURRENCIES:\n",
    "    print(f\"\\nAnalyzing {crypto}...\")\n",
    "    action, price = analyze_market(crypto)\n",
    "    print(f\"Analysis result: {action.upper()} at ${price:.2f}\")\n",
    "    \n",
    "    # Execute trade (simulation mode)\n",
    "    execute_trade(crypto, action, price, simulate=True)"
   ]
  },
  {
   "cell_type": "markdown",
   "id": "7bd20db4",
   "metadata": {
    "papermill": {
     "duration": 0.008643,
     "end_time": "2025-04-21T04:08:56.028443",
     "exception": false,
     "start_time": "2025-04-21T04:08:56.019800",
     "status": "completed"
    },
    "tags": []
   },
   "source": [
    "## 9. Run a Single Trading Cycle: Putting It All Together\n",
    "This is the grand finale where everything comes together. We run a complete trading cycle, analyzing the market, executing trades, and logging the results. It’s like a symphony of data science and finance, with Python as the conductor."
   ]
  },
  {
   "cell_type": "code",
   "execution_count": 10,
   "id": "d545084b",
   "metadata": {
    "execution": {
     "iopub.execute_input": "2025-04-21T04:08:56.047218Z",
     "iopub.status.busy": "2025-04-21T04:08:56.046895Z",
     "iopub.status.idle": "2025-04-21T04:08:56.124946Z",
     "shell.execute_reply": "2025-04-21T04:08:56.124055Z"
    },
    "papermill": {
     "duration": 0.089596,
     "end_time": "2025-04-21T04:08:56.126669",
     "exception": false,
     "start_time": "2025-04-21T04:08:56.037073",
     "status": "completed"
    },
    "tags": []
   },
   "outputs": [
    {
     "name": "stdout",
     "output_type": "stream",
     "text": [
      "Starting trading cycle in SIMULATION mode\n",
      "\n",
      "Analyzing BTC/USD...\n",
      "Analysis result: HOLD at $87286.30\n",
      "\n",
      "Analyzing ETH/USD...\n",
      "Analysis result: SELL at $1638.75\n",
      "No position to sell for ETH/USD: 404 Client Error: Not Found for url: https://paper-api.alpaca.markets/v2/positions/ETH/USD\n",
      "\n",
      "Trading cycle completed!\n"
     ]
    }
   ],
   "source": [
    "def run_trading_cycle(simulate=True):\n",
    "    \"\"\"Run a complete trading cycle across all cryptocurrencies.\"\"\"\n",
    "    print(f\"Starting trading cycle in {'SIMULATION' if simulate else 'LIVE'} mode\")\n",
    "    \n",
    "    results = []\n",
    "    for crypto in CRYPTOCURRENCIES:\n",
    "        print(f\"\\nAnalyzing {crypto}...\")\n",
    "        action, price = analyze_market(crypto)\n",
    "        print(f\"Analysis result: {action.upper()} at ${price:.2f}\")\n",
    "        \n",
    "        # Execute trade\n",
    "        execute_trade(crypto, action, price, simulate=simulate)\n",
    "        \n",
    "        # Store result\n",
    "        results.append({\n",
    "            'symbol': crypto,\n",
    "            'action': action,\n",
    "            'price': price,\n",
    "            'timestamp': datetime.now().isoformat()\n",
    "        })\n",
    "    \n",
    "    print(\"\\nTrading cycle completed!\")\n",
    "    return results\n",
    "\n",
    "# Run a trading cycle (simulation mode)\n",
    "results = run_trading_cycle(simulate=True)"
   ]
  },
  {
   "cell_type": "markdown",
   "id": "e4c6ea1c",
   "metadata": {
    "papermill": {
     "duration": 0.010238,
     "end_time": "2025-04-21T04:08:56.146174",
     "exception": false,
     "start_time": "2025-04-21T04:08:56.135936",
     "status": "completed"
    },
    "tags": []
   },
   "source": [
    "## Future Improvement Possibilities\n",
    "While this notebook demonstrates a functional crypto trading bot, there’s always room for improvement. Here are some ideas to take this project to the next level (yes index is starting from 0, because why not):\n",
    "\n",
    "#### Add more\n",
    "Add more crypto currencies to the mix for a bigger pool. \n",
    "#### Advanced Technical Indicators\n",
    "Add more sophisticated indicators like Bollinger Bands, MACD, or Stochastic Oscillator to refine trading signals.\n",
    "Experiment with combining multiple indicators for a more robust strategy.\n",
    "#### Machine Learning Integration\n",
    "Train machine learning models (e.g., Random Forest, LSTM, or Reinforcement Learning) to predict price movements or generate trading signals.\n",
    "Use Kaggle datasets to train and validate models for better generalization.\n",
    "#### Backtesting Framework\n",
    "Implement a backtesting module to evaluate the strategy on historical data.\n",
    "Include performance metrics like Sharpe ratio, maximum drawdown, and cumulative returns.\n",
    "#### Risk Management Enhancements\n",
    "Introduce dynamic position sizing based on volatility or risk-adjusted returns.\n",
    "Add trailing stop-loss functionality to lock in profits during favorable market conditions.\n",
    "#### Multi-Asset Support\n",
    "Expand the bot to support more cryptocurrencies or other asset classes like stocks or forex.\n",
    "Allow users to dynamically customize the list of assets.\n",
    "#### Real-Time Data Integration\n",
    "Integrate real-time data feeds for live trading.\n",
    "Use WebSocket APIs for faster price updates and decision-making.\n",
    "#### Portfolio Optimization\n",
    "Add portfolio optimization techniques to allocate capital across multiple assets based on risk and return.\n",
    "Use methods like Modern Portfolio Theory (MPT) or Black-Litterman models.\n",
    "#### Performance Dashboard\n",
    "Create an interactive dashboard using libraries like Plotly or Dash to visualize portfolio performance, trade history, and market trends.\n",
    "Include real-time updates for better insights.\n",
    "#### Notifications and Alerts\n",
    "Add email, SMS, or Telegram notifications for trade execution or significant market events.\n",
    "Provide alerts for potential trading opportunities based on predefined conditions.\n",
    "#### Integration with Other APIs\n",
    "Integrate with other trading platforms or exchanges (e.g., Binance, Coinbase) to diversify trading options.\n",
    "Use sentiment analysis APIs (e.g., Twitter or news sentiment) to incorporate market sentiment into trading decisions.\n",
    "#### Parameter Optimization\n",
    "Implement a grid search or genetic algorithm to optimize trading parameters like SMA periods, RSI thresholds, and stop-loss percentages.\n",
    "Automate the process of finding the best-performing strategy.\n",
    "#### Cloud Deployment\n",
    "Deploy the bot on a cloud platform (e.g., AWS, Google Cloud, or Azure) for 24/7 operation.\n",
    "Use serverless architecture or containerization (e.g., Docker) for scalability and reliability.\n",
    "#### Community Collaboration\n",
    "Open-source the project on GitHub to encourage contributions from the community.\n",
    "Add detailed documentation and examples to make it easier for others to use and extend the bot.\n",
    "#### Gamification\n",
    "Add a simulation mode with gamified elements, such as leaderboards or achievements, to make learning algorithmic trading more engaging.\n",
    "These enhancements can make the bot more powerful, versatile, and user-friendly, while also increasing its appeal for competitions or real-world applications.\n",
    "\n"
   ]
  },
  {
   "cell_type": "markdown",
   "id": "b2e1bc8e",
   "metadata": {
    "papermill": {
     "duration": 0.00955,
     "end_time": "2025-04-21T04:08:56.166234",
     "exception": false,
     "start_time": "2025-04-21T04:08:56.156684",
     "status": "completed"
    },
    "tags": []
   },
   "source": [
    "## Conclusion: From Data to Decisions\n",
    "This is a crypto trading bot that can analyze markets, calculate indicators, and execute trades (in simulation mode, for now). This notebook has demonstrated how to:\n",
    "\n",
    "1. Fetch cryptocurrency data using the Alpaca API.\n",
    "2. Calculate technical indicators (SMA, RSI).\n",
    "3. Implement a simple trading strategy.\n",
    "4. Execute trades (in simulation mode).\n",
    "\n",
    "To use this in a live environment:\n",
    "\n",
    "1. Set up Alpaca API credentials.\n",
    "2. Run the cells sequentially to test the functionality.\n",
    "3. Adjust the trading parameters as needed (play around).\n",
    "4. When ready, run a trading cycle with simulate=False to place actual orders (This account is setup for paper money).\n",
    "\n",
    "Good luck, and may all our trades always be in the green! 🚀"
   ]
  }
 ],
 "metadata": {
  "kaggle": {
   "accelerator": "none",
   "dataSources": [],
   "dockerImageVersionId": 31012,
   "isGpuEnabled": false,
   "isInternetEnabled": true,
   "language": "python",
   "sourceType": "notebook"
  },
  "kernelspec": {
   "display_name": "Python 3",
   "language": "python",
   "name": "python3"
  },
  "language_info": {
   "codemirror_mode": {
    "name": "ipython",
    "version": 3
   },
   "file_extension": ".py",
   "mimetype": "text/x-python",
   "name": "python",
   "nbconvert_exporter": "python",
   "pygments_lexer": "ipython3",
   "version": "3.11.11"
  },
  "papermill": {
   "default_parameters": {},
   "duration": 24.162894,
   "end_time": "2025-04-21T04:08:56.796415",
   "environment_variables": {},
   "exception": null,
   "input_path": "__notebook__.ipynb",
   "output_path": "__notebook__.ipynb",
   "parameters": {},
   "start_time": "2025-04-21T04:08:32.633521",
   "version": "2.6.0"
  }
 },
 "nbformat": 4,
 "nbformat_minor": 5
}
